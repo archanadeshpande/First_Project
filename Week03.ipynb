{
 "cells": [
  {
   "cell_type": "markdown",
   "metadata": {},
   "source": [
    "User Input & Type Converting."
   ]
  },
  {
   "cell_type": "code",
   "execution_count": 1,
   "metadata": {},
   "outputs": [
    {
     "name": "stdout",
     "output_type": "stream",
     "text": [
      "What is your name? ahh ok\n",
      "ahh ok\n"
     ]
    }
   ],
   "source": [
    "print( input(\"What is your name? \") )"
   ]
  },
  {
   "cell_type": "code",
   "execution_count": 3,
   "metadata": {},
   "outputs": [
    {
     "name": "stdout",
     "output_type": "stream",
     "text": [
      "What is your name? Archana\n",
      "Hello Archana!\n"
     ]
    }
   ],
   "source": [
    "# saving what the user inputs\n",
    "ans = input(\"What is your name? \")\n",
    "print(\"Hello {}!\".format(ans) )"
   ]
  },
  {
   "cell_type": "code",
   "execution_count": 6,
   "metadata": {},
   "outputs": [
    {
     "name": "stdout",
     "output_type": "stream",
     "text": [
      "Type a number to add: dkjfa\n",
      "You did not put in a valid number!\n",
      "The program did not break!\n"
     ]
    }
   ],
   "source": [
    "# using the try and except blocks, use tab to indent where necessary\n",
    "try:\n",
    "    ans = float( input(\"Type a number to add: \") )\n",
    "    print( \"100 + {} = {}\".format(ans, 100 + ans) )\n",
    "except:\n",
    "    print(\"You did not put in a valid number!\")\n",
    "# without try/except print statement would not get hit if error occurs\n",
    "print(\"The program did not break!\")"
   ]
  },
  {
   "cell_type": "markdown",
   "metadata": {},
   "source": [
    "Monday exercise"
   ]
  },
  {
   "cell_type": "code",
   "execution_count": 2,
   "metadata": {},
   "outputs": [
    {
     "name": "stdout",
     "output_type": "stream",
     "text": [
      "<class 'bool'>\n"
     ]
    },
    {
     "data": {
      "text/plain": [
       "bool"
      ]
     },
     "execution_count": 2,
     "metadata": {},
     "output_type": "execute_result"
    }
   ],
   "source": [
    "word = \"True\"\n",
    "boolword = bool(word)\n",
    "print(type(boolword))\n",
    "type(boolword)"
   ]
  },
  {
   "cell_type": "code",
   "execution_count": 10,
   "metadata": {},
   "outputs": [
    {
     "name": "stdout",
     "output_type": "stream",
     "text": [
      "Enter the first number:5\n",
      "Enter the second number:sfg\n",
      "You did not put in a valid number!\n"
     ]
    }
   ],
   "source": [
    "try:\n",
    "    num1 = float(input(\"Enter the first number:\"))\n",
    "    num2 = float(input(\"Enter the second number:\"))\n",
    "    total = num1 + num2\n",
    "    print(f\"The total is: {total}\")\n",
    "except:\n",
    "    print(\"You did not put in a valid number!\")"
   ]
  },
  {
   "cell_type": "markdown",
   "metadata": {},
   "source": [
    "Tuesday exercises"
   ]
  },
  {
   "cell_type": "code",
   "execution_count": 5,
   "metadata": {},
   "outputs": [
    {
     "name": "stdout",
     "output_type": "stream",
     "text": [
      "Enter a word:9867\n",
      "The word doest not contain es\n"
     ]
    }
   ],
   "source": [
    "try:\n",
    "    word = (input(\"Enter a word:\"))\n",
    "    if \"es\" in word:\n",
    "        print(\"The word contains es\")\n",
    "    else:\n",
    "        print(\"The word doest not contain es\")\n",
    "except:\n",
    "    print(\"You did not put in a valid input!\")"
   ]
  },
  {
   "cell_type": "code",
   "execution_count": 26,
   "metadata": {},
   "outputs": [
    {
     "name": "stdout",
     "output_type": "stream",
     "text": [
      "Enter a word:something\n",
      "ing\n",
      "The word contains ing in the end\n"
     ]
    }
   ],
   "source": [
    "try:\n",
    "    word = (input(\"Enter a word:\"))\n",
    "    print(word[len(word)-3:len(word)])\n",
    "    if word[len(word)-3:len(word)] == \"ing\":\n",
    "        print(\"The word contains ing in the end\")\n",
    "    else:\n",
    "        print(\"The word doest not contain ing in the end\")\n",
    "except:\n",
    "    print(\"You did not put in a valid number!\")"
   ]
  },
  {
   "cell_type": "code",
   "execution_count": 31,
   "metadata": {},
   "outputs": [
    {
     "name": "stdout",
     "output_type": "stream",
     "text": [
      "Enter a word:stupid i am\n",
      "The word doest not contain ing in the end\n"
     ]
    }
   ],
   "source": [
    "try:\n",
    "    word = (input(\"Enter a word:\"))\n",
    "    if word[-3:] == \"ing\":\n",
    "        print(\"The word contains ing in the end\")\n",
    "    else:\n",
    "        print(\"The word doest not contain ing in the end\")\n",
    "except:\n",
    "    print(\"You did not put in a valid number!\")"
   ]
  },
  {
   "cell_type": "code",
   "execution_count": 35,
   "metadata": {},
   "outputs": [
    {
     "name": "stdout",
     "output_type": "stream",
     "text": [
      "Enter the first word:ThIs is Am\n",
      "Enter the second word:this is am\n",
      "Both words are same\n"
     ]
    }
   ],
   "source": [
    "try:\n",
    "    word1 = (input(\"Enter the first word:\"))\n",
    "    word2 = (input(\"Enter the second word:\"))\n",
    "    if word1.upper() == word2.upper():\n",
    "        print(\"Both words are same\")\n",
    "    else:\n",
    "        print(\"The words are different\")\n",
    "except:\n",
    "    print(\"You did not put in a valid number!\")"
   ]
  },
  {
   "cell_type": "code",
   "execution_count": 6,
   "metadata": {},
   "outputs": [
    {
     "name": "stdout",
     "output_type": "stream",
     "text": [
      "Enter the number:8\n",
      "The squared value is: 64\n"
     ]
    }
   ],
   "source": [
    "try:\n",
    "    num1 = float(input(\"Enter the number:\"))\n",
    "    if num1 < 10:\n",
    "        exp = int(num1 ** 2)\n",
    "        print(f\"The squared value is: {exp}\")\n",
    "    else:\n",
    "        print(\"The value is greater than 10!\")\n",
    "except:\n",
    "    print(\"You did not put in a valid number!\")"
   ]
  },
  {
   "cell_type": "markdown",
   "metadata": {},
   "source": [
    "Elif Statements"
   ]
  },
  {
   "cell_type": "code",
   "execution_count": 2,
   "metadata": {},
   "outputs": [
    {
     "name": "stdout",
     "output_type": "stream",
     "text": [
      "x is less\n"
     ]
    }
   ],
   "source": [
    "# using the elif conditional statement\n",
    "x, y = 5, 10\n",
    "if x > y:\n",
    "    print(\"x is greater\")\n",
    "elif x < y:\n",
    "    print(\"x is less\")"
   ]
  },
  {
   "cell_type": "code",
   "execution_count": 6,
   "metadata": {},
   "outputs": [
    {
     "data": {
      "text/plain": [
       "'Wednesday Exercises'"
      ]
     },
     "execution_count": 6,
     "metadata": {},
     "output_type": "execute_result"
    }
   ],
   "source": [
    "\"\"\"Wednesday Exercises\"\"\""
   ]
  },
  {
   "cell_type": "code",
   "execution_count": 5,
   "metadata": {},
   "outputs": [
    {
     "name": "stdout",
     "output_type": "stream",
     "text": [
      "Insert a number:100\n",
      "100.0 is equal to 100\n"
     ]
    }
   ],
   "source": [
    "ans = float(input(\"Insert a number:\"))\n",
    "if ans<100:\n",
    "    print(f\"{ans} is lower then 100\")\n",
    "elif ans>100:\n",
    "    print(f\"{ans} is greater then 100\")\n",
    "else:\n",
    "    print(f\"{ans} is equal to 100\")"
   ]
  },
  {
   "cell_type": "code",
   "execution_count": 8,
   "metadata": {},
   "outputs": [
    {
     "name": "stdout",
     "output_type": "stream",
     "text": [
      "lower\n"
     ]
    }
   ],
   "source": [
    "x, y = 5, 10\n",
    "if x > y:\n",
    "    print(\"greater\")\n",
    "elif x < y:\n",
    "    print(\"lower\")"
   ]
  },
  {
   "cell_type": "code",
   "execution_count": 9,
   "metadata": {},
   "outputs": [
    {
     "data": {
      "text/plain": [
       "'Thursday Exercise'"
      ]
     },
     "execution_count": 9,
     "metadata": {},
     "output_type": "execute_result"
    }
   ],
   "source": [
    "\"\"\"Thursday Exercise\"\"\""
   ]
  },
  {
   "cell_type": "code",
   "execution_count": 10,
   "metadata": {},
   "outputs": [
    {
     "name": "stdout",
     "output_type": "stream",
     "text": [
      "Hello John\n"
     ]
    }
   ],
   "source": [
    "name = \"John\"\n",
    "if name == \"Jack\":\n",
    "    print(\"Hello Jack\")\n",
    "else:\n",
    "    print(\"Hello John\")"
   ]
  },
  {
   "cell_type": "code",
   "execution_count": 13,
   "metadata": {},
   "outputs": [
    {
     "name": "stdout",
     "output_type": "stream",
     "text": [
      "Give time:1900\n",
      "Good Evening\n"
     ]
    }
   ],
   "source": [
    "ans = int(input(\"Give time:\"))\n",
    "if ans<1200:\n",
    "    print(\"Good Morning\")\n",
    "elif ans>1200 and ans<1700:\n",
    "    print(\"Good Afternoon\")\n",
    "else:\n",
    "    print(\"Good Evening\")"
   ]
  },
  {
   "cell_type": "code",
   "execution_count": 14,
   "metadata": {},
   "outputs": [
    {
     "data": {
      "text/plain": [
       "'Week 3 Project'"
      ]
     },
     "execution_count": 14,
     "metadata": {},
     "output_type": "execute_result"
    }
   ],
   "source": [
    "\"\"\"Week 3 Project\"\"\""
   ]
  },
  {
   "cell_type": "markdown",
   "metadata": {},
   "source": [
    "Friday Project: Creating a Calculator."
   ]
  },
  {
   "cell_type": "code",
   "execution_count": 19,
   "metadata": {},
   "outputs": [
    {
     "name": "stdout",
     "output_type": "stream",
     "text": [
      "Enter the operation you want to perform (add/sub/mul/div):div\n",
      "Enter first number: jdhfg\n",
      "Please provide a number!\n"
     ]
    }
   ],
   "source": [
    "\n",
    "try:\n",
    "    operation = input(\"Enter the operation you want to perform (add/sub/mul/div):\")\n",
    "    num1 = float(input(\"Enter first number: \"))\n",
    "    num2 = float(input(\"Enter second number: \"))\n",
    "    if operation == \"add\":\n",
    "        result = num1 + num2\n",
    "        print(f\"The answer is {result}\")\n",
    "    elif operation == \"sub\":\n",
    "        result = num1 - num2\n",
    "        print(f\"The answer is {result}\")\n",
    "    elif operation == \"mul\":\n",
    "        result = num1 * num2\n",
    "        print(f\"The answer is {result}\")\n",
    "    elif operation == \"div\":\n",
    "        result = num1 / num2\n",
    "        print(f\"The answer is {result}\")\n",
    "    else:\n",
    "        print(\"Provide add/sub/mul/div as operation\")\n",
    "except:\n",
    "    print(\"Please provide a number!\")"
   ]
  },
  {
   "cell_type": "code",
   "execution_count": 25,
   "metadata": {},
   "outputs": [
    {
     "name": "stdout",
     "output_type": "stream",
     "text": [
      "Would you like to add/subtract/multiply/divide? add\n",
      "What is the first number? 8347\n",
      "What is the second number? 38475\n",
      "8347.0 + 38475.0 = 46822.0\n"
     ]
    }
   ],
   "source": [
    "# step 1: ask user for calculation to be performed\n",
    "operation = input(\"Would you like to add/subtract/multiply/divide? \").lower( )\n",
    "# step 2: ask for numbers, alert order matters for subtracting and dividing\n",
    "if operation == \"subtract\" or operation == \"divide\":\n",
    "    print( \"You chose { }.\".format(operation) )\n",
    "    print(\"Please keep in mind that the order of your numbers matter.\")\n",
    "num1 = input(\"What is the first number? \")\n",
    "num2 = input(\"What is the second number? \")\n",
    "# step 3: setup try/except for mathematical operation\n",
    "try:\n",
    "    # step 3a: immediately try to convert numbers input to floats\n",
    "    num1, num2 = float(num1), float(num2)\n",
    "    # step 3b: perform operation and print result\n",
    "    if operation == \"add\":\n",
    "        result = num1 + num2\n",
    "        print( \"{} + {} = {}\".format(num1, num2, result) )\n",
    "    elif operation == \"subtract\":\n",
    "        result = num1 - num2\n",
    "        print( \"{} - {} = {}\".format(num1, num2, result) )\n",
    "    elif operation == \"multiply\":\n",
    "        result = num1 * num2\n",
    "        print( \"{} * {} = {}\".format(num1, num2, result) )\n",
    "    elif operation == \"divide\":\n",
    "        result = num1 / num2\n",
    "        print( \"{} / {} = {}\".format(num1, num2, result) )\n",
    "    else:\n",
    "# else will be hit if they didn't chose an option correctly\n",
    "        print(\"Sorry, but '{}' is not an option.\".format(operation) )\n",
    "except:\n",
    "# steb 3c: print error\n",
    "    print(\"Error: Improper numbers used. Please try again.\")"
   ]
  },
  {
   "cell_type": "code",
   "execution_count": null,
   "metadata": {},
   "outputs": [],
   "source": []
  }
 ],
 "metadata": {
  "kernelspec": {
   "display_name": "Python 3",
   "language": "python",
   "name": "python3"
  },
  "language_info": {
   "codemirror_mode": {
    "name": "ipython",
    "version": 3
   },
   "file_extension": ".py",
   "mimetype": "text/x-python",
   "name": "python",
   "nbconvert_exporter": "python",
   "pygments_lexer": "ipython3",
   "version": "3.7.6"
  }
 },
 "nbformat": 4,
 "nbformat_minor": 4
}
