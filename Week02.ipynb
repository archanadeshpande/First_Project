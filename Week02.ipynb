{
 "cells": [
  {
   "cell_type": "code",
   "execution_count": 1,
   "metadata": {},
   "outputs": [],
   "source": [
    "# this is a comment"
   ]
  },
  {
   "cell_type": "code",
   "execution_count": 3,
   "metadata": {},
   "outputs": [
    {
     "name": "stdout",
     "output_type": "stream",
     "text": [
      "hello\n"
     ]
    }
   ],
   "source": [
    "\"\"\" this is a multiline comment\"\"\"\n",
    "\n",
    "print('hello') # this is also a comment"
   ]
  },
  {
   "cell_type": "code",
   "execution_count": 4,
   "metadata": {},
   "outputs": [
    {
     "data": {
      "text/plain": [
       "'monday execises'"
      ]
     },
     "execution_count": 4,
     "metadata": {},
     "output_type": "execute_result"
    }
   ],
   "source": [
    "\"\"\"monday execises\"\"\""
   ]
  },
  {
   "cell_type": "code",
   "execution_count": 5,
   "metadata": {},
   "outputs": [
    {
     "name": "stdout",
     "output_type": "stream",
     "text": [
      "ARchana Deshpande\n"
     ]
    }
   ],
   "source": [
    "print(\"ARchana Deshpande\")"
   ]
  },
  {
   "cell_type": "code",
   "execution_count": 6,
   "metadata": {},
   "outputs": [
    {
     "data": {
      "text/plain": [
       "int"
      ]
     },
     "execution_count": 6,
     "metadata": {},
     "output_type": "execute_result"
    }
   ],
   "source": [
    "type(17)"
   ]
  },
  {
   "cell_type": "code",
   "execution_count": 7,
   "metadata": {},
   "outputs": [
    {
     "data": {
      "text/plain": [
       "str"
      ]
     },
     "execution_count": 7,
     "metadata": {},
     "output_type": "execute_result"
    }
   ],
   "source": [
    "type(\"ABC\")"
   ]
  },
  {
   "cell_type": "code",
   "execution_count": 8,
   "metadata": {},
   "outputs": [
    {
     "name": "stdout",
     "output_type": "stream",
     "text": [
      "3\n"
     ]
    }
   ],
   "source": [
    "num1=1\n",
    "num2=2\n",
    "result=num1+num2\n",
    "print(result)"
   ]
  },
  {
   "cell_type": "code",
   "execution_count": 9,
   "metadata": {},
   "outputs": [
    {
     "name": "stdout",
     "output_type": "stream",
     "text": [
      "4\n",
      "8\n"
     ]
    }
   ],
   "source": [
    "result+=1\n",
    "print(result)\n",
    "result*=num2\n",
    "print(result)"
   ]
  },
  {
   "cell_type": "code",
   "execution_count": 10,
   "metadata": {},
   "outputs": [
    {
     "data": {
      "text/plain": [
       "'Tuesday exercises'"
      ]
     },
     "execution_count": 10,
     "metadata": {},
     "output_type": "execute_result"
    }
   ],
   "source": [
    "\"\"\"Tuesday exercises\"\"\""
   ]
  },
  {
   "cell_type": "code",
   "execution_count": 32,
   "metadata": {},
   "outputs": [
    {
     "name": "stdout",
     "output_type": "stream",
     "text": [
      "3 + 10 = 13\n",
      "3 + 10 = 13\n",
      "3 + 10 = 13\n"
     ]
    }
   ],
   "source": [
    "x=3\n",
    "y=10\n",
    "result=x*y\n",
    "add = x+y\n",
    "\n",
    "print(x,\"+\",y,\"=\",add)\n",
    "print(\"{} + {} = {}\".format(x,y,add))\n",
    "\n",
    "print(f\"{x} + {y} = {add}\")"
   ]
  },
  {
   "cell_type": "code",
   "execution_count": 23,
   "metadata": {},
   "outputs": [
    {
     "data": {
      "text/plain": [
       "'Wednesday exercises'"
      ]
     },
     "execution_count": 23,
     "metadata": {},
     "output_type": "execute_result"
    }
   ],
   "source": [
    "\"\"\"Wednesday exercises\"\"\""
   ]
  },
  {
   "cell_type": "code",
   "execution_count": 25,
   "metadata": {},
   "outputs": [
    {
     "name": "stdout",
     "output_type": "stream",
     "text": [
      "23 4.5 False John\n"
     ]
    }
   ],
   "source": [
    "print(\"{} {} {} {}\".format(23,4.5,False,\"John\"))"
   ]
  },
  {
   "cell_type": "code",
   "execution_count": 30,
   "metadata": {},
   "outputs": [
    {
     "name": "stdout",
     "output_type": "stream",
     "text": [
      "Archana's favourite sport is timepass\n",
      "Archana is working on python programming!\n"
     ]
    }
   ],
   "source": [
    "print(\"{}'s favourite sport is {}\".format(\"Archana\",\"timepass\"))\n",
    "print(\"{} is working on {} programming!\".format(\"Archana\",\"python\"))"
   ]
  },
  {
   "cell_type": "code",
   "execution_count": 37,
   "metadata": {},
   "outputs": [
    {
     "name": "stdout",
     "output_type": "stream",
     "text": [
      "   John Smith   \n",
      "   JOHN SMITH   \n",
      "   john smith   \n"
     ]
    }
   ],
   "source": [
    "name='   jOhN SmIth   '\n",
    "print(name.title())\n",
    "print(name.upper())\n",
    "print(name.lower())"
   ]
  },
  {
   "cell_type": "code",
   "execution_count": 35,
   "metadata": {},
   "outputs": [
    {
     "name": "stdout",
     "output_type": "stream",
     "text": [
      "Hello There.\n"
     ]
    }
   ],
   "source": [
    "words = \"Hello There!\"\n",
    "print(words.replace(\"!\",\".\"))"
   ]
  },
  {
   "cell_type": "code",
   "execution_count": 36,
   "metadata": {},
   "outputs": [
    {
     "name": "stdout",
     "output_type": "stream",
     "text": [
      "4\n"
     ]
    }
   ],
   "source": [
    "print(words.find(\"o\"))"
   ]
  },
  {
   "cell_type": "code",
   "execution_count": 38,
   "metadata": {},
   "outputs": [
    {
     "name": "stdout",
     "output_type": "stream",
     "text": [
      "jOhN SmIth\n",
      "   jOhN SmIth\n",
      "jOhN SmIth   \n"
     ]
    }
   ],
   "source": [
    "print(name.strip())\n",
    "print(name.rstrip())\n",
    "print(name.lstrip())"
   ]
  },
  {
   "cell_type": "code",
   "execution_count": 39,
   "metadata": {},
   "outputs": [
    {
     "name": "stdout",
     "output_type": "stream",
     "text": [
      "['jOhN', 'SmIth']\n"
     ]
    }
   ],
   "source": [
    "print(name.split())"
   ]
  },
  {
   "cell_type": "code",
   "execution_count": 40,
   "metadata": {},
   "outputs": [
    {
     "data": {
      "text/plain": [
       "'Thursday exercises'"
      ]
     },
     "execution_count": 40,
     "metadata": {},
     "output_type": "execute_result"
    }
   ],
   "source": [
    "\"\"\"Thursday exercises\"\"\""
   ]
  },
  {
   "cell_type": "code",
   "execution_count": 41,
   "metadata": {},
   "outputs": [
    {
     "name": "stdout",
     "output_type": "stream",
     "text": [
      "UPPERCASE\n"
     ]
    }
   ],
   "source": [
    "print(\"uppercase\".upper())"
   ]
  },
  {
   "cell_type": "code",
   "execution_count": 43,
   "metadata": {},
   "outputs": [
    {
     "name": "stdout",
     "output_type": "stream",
     "text": [
      " $$$ John $$$ Smith \n",
      "John $$$ Smith\n"
     ]
    }
   ],
   "source": [
    "emp=\"$$$ $$$ John $$$ Smith $$$\"\n",
    "print(emp.strip(\"$\"))\n",
    "print(emp.strip(\"$$$ \"))"
   ]
  },
  {
   "cell_type": "markdown",
   "metadata": {},
   "source": [
    "Friday Project: Printing Receipts."
   ]
  },
  {
   "cell_type": "code",
   "execution_count": 2,
   "metadata": {},
   "outputs": [
    {
     "name": "stdout",
     "output_type": "stream",
     "text": [
      "**************************************************\n",
      "\t\tCoding Temple, Inc.\n",
      "\t\t283 Franklin St.\n",
      "\t\tBoston, MA\n",
      "==================================================\n",
      "\tProduct Name\tProduct Price\n",
      "\tBooks \t\t$49.95\n",
      "\tComputer \t$579.99\n",
      "\tMonitor \t$124.89\n",
      "==================================================\n",
      "\t\t\tTotal\n",
      "\t\t\t$754.83\n",
      "==================================================\n",
      "\tThanks for shopping with us today!\n",
      "**************************************************\n"
     ]
    }
   ],
   "source": [
    "company_name = 'Coding Temple, Inc.'\n",
    "address1 = '283 Franklin St.'\n",
    "address2 = 'Boston, MA'\n",
    "\n",
    "p1_name, p1_price = 'Books',49.95\n",
    "p2_name, p2_price = 'Computer',579.99\n",
    "p3_name, p3_price = 'monitor',124.89\n",
    "\n",
    "total = p1_price + p2_price + p3_price\n",
    "message = 'Thanks for shopping with us today!'\n",
    "\n",
    "print(\"*\" * 50)\n",
    "print(f\"\\t\\t{company_name}\")\n",
    "print(f\"\\t\\t{address1}\")\n",
    "print(f\"\\t\\t{address2}\")\n",
    "print(\"=\" * 50)\n",
    "\n",
    "print(\"\\tProduct Name\\tProduct Price\")\n",
    "\"\"\"print(f\"\\t{p1_name.title()}\\t\\t${p1_price}\")\n",
    "print(f\"\\t{p2_name.title()}\\t${p2_price}\")\n",
    "print(f\"\\t{p3_name.title()}\\t\\t${p3_price}\")\"\"\"\n",
    "\n",
    "print(\"\\t{} \\t\\t${}\".format(p1_name.title(),p1_price))\n",
    "print(\"\\t{} \\t${}\".format(p2_name.title(),p2_price))\n",
    "print(\"\\t{} \\t${}\".format(p3_name.title(),p3_price))\n",
    "print(\"=\" * 50)\n",
    "#need to check more on the tabl issue\n",
    "print(\"\\t\\t\\tTotal\")\n",
    "print(f\"\\t\\t\\t${total}\")\n",
    "print(\"=\" * 50)\n",
    "\n",
    "\n",
    "print(f\"\\t{message}\")\n",
    "print(\"*\" * 50)"
   ]
  },
  {
   "cell_type": "code",
   "execution_count": 11,
   "metadata": {},
   "outputs": [
    {
     "name": "stdout",
     "output_type": "stream",
     "text": [
      "olleH\n"
     ]
    }
   ],
   "source": [
    "hello = \"Hello\"\n",
    "print(hello[-1::-1])"
   ]
  },
  {
   "cell_type": "code",
   "execution_count": 16,
   "metadata": {},
   "outputs": [
    {
     "data": {
      "text/plain": [
       "'**********************Hello***********************'"
      ]
     },
     "execution_count": 16,
     "metadata": {},
     "output_type": "execute_result"
    }
   ],
   "source": [
    "hello.center(50,\"*\")"
   ]
  },
  {
   "cell_type": "code",
   "execution_count": 17,
   "metadata": {},
   "outputs": [
    {
     "data": {
      "text/plain": [
       "'Hello*********************************************'"
      ]
     },
     "execution_count": 17,
     "metadata": {},
     "output_type": "execute_result"
    }
   ],
   "source": [
    "hello.ljust(50,\"*\")"
   ]
  },
  {
   "cell_type": "code",
   "execution_count": 19,
   "metadata": {},
   "outputs": [
    {
     "data": {
      "text/plain": [
       "'000000000000000000000000000000000000000000000Hello'"
      ]
     },
     "execution_count": 19,
     "metadata": {},
     "output_type": "execute_result"
    }
   ],
   "source": [
    "hello.zfill(50)"
   ]
  },
  {
   "cell_type": "code",
   "execution_count": null,
   "metadata": {},
   "outputs": [],
   "source": []
  }
 ],
 "metadata": {
  "kernelspec": {
   "display_name": "Python 3",
   "language": "python",
   "name": "python3"
  },
  "language_info": {
   "codemirror_mode": {
    "name": "ipython",
    "version": 3
   },
   "file_extension": ".py",
   "mimetype": "text/x-python",
   "name": "python",
   "nbconvert_exporter": "python",
   "pygments_lexer": "ipython3",
   "version": "3.7.6"
  }
 },
 "nbformat": 4,
 "nbformat_minor": 4
}
